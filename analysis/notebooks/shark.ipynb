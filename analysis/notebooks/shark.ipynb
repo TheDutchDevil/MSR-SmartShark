{
 "cells": [
  {
   "cell_type": "code",
   "execution_count": 18,
   "id": "cf81835b-2b84-4901-b40e-0ce18e53cc50",
   "metadata": {},
   "outputs": [
    {
     "name": "stdout",
     "output_type": "stream",
     "text": [
      "Databases present are ['admin', 'config', 'local', 'smartshark_2_1']\n",
      "Found 1 repos\n",
      "There are 7222 for commons-math\n"
     ]
    }
   ],
   "source": [
    "from pymongo import MongoClient\n",
    "connection = MongoClient(\n",
    "    host=\"172.17.0.2\",\n",
    "    username=\"admin-shark\",\n",
    "    password=\"msr2021shark\")\n",
    "\n",
    "print(f\"Databases present are {connection.list_database_names()}\")\n",
    "\n",
    "db = connection.smartshark_2_1\n",
    "\n",
    "project = db.project.find_one({})\n",
    "\n",
    "repos = list(db.vcs_system.find({'project_id':project['_id']}))\n",
    "\n",
    "print(f\"Found {len(repos)} repos\")\n",
    "\n",
    "commits = db.commit.count_documents({'vcs_system_id': {'$in': [x[\"_id\"] for x in repos]}})\n",
    "\n",
    "print(f\"There are {commits} commits for {project['name']}\")"
   ]
  }
 ],
 "metadata": {
  "kernelspec": {
   "display_name": "Python 3 (ipykernel)",
   "language": "python",
   "name": "python3"
  },
  "language_info": {
   "codemirror_mode": {
    "name": "ipython",
    "version": 3
   },
   "file_extension": ".py",
   "mimetype": "text/x-python",
   "name": "python",
   "nbconvert_exporter": "python",
   "pygments_lexer": "ipython3",
   "version": "3.9.7"
  }
 },
 "nbformat": 4,
 "nbformat_minor": 5
}
