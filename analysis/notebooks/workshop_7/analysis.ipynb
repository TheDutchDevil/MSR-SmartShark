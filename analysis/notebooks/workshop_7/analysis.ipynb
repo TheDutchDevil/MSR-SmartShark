{
 "cells": [
  {
   "cell_type": "code",
   "execution_count": 1,
   "id": "809f8416-a1f2-45d7-81ef-ae28e74f32b4",
   "metadata": {},
   "outputs": [
    {
     "name": "stderr",
     "output_type": "stream",
     "text": [
      "Installing packages into ‘/usr/local/lib/R/site-library’\n",
      "(as ‘lib’ is unspecified)\n",
      "\n"
     ]
    }
   ],
   "source": [
    "## install packages\n",
    "\n",
    "install.packages(c('lmerTest', 'MuMIn', 'VIF'))"
   ]
  },
  {
   "cell_type": "code",
   "execution_count": 2,
   "id": "55f5ef11-641c-46e4-9217-ad6e44b772ab",
   "metadata": {},
   "outputs": [
    {
     "name": "stderr",
     "output_type": "stream",
     "text": [
      "Loading required package: lme4\n",
      "\n",
      "Loading required package: Matrix\n",
      "\n",
      "\n",
      "Attaching package: ‘lmerTest’\n",
      "\n",
      "\n",
      "The following object is masked from ‘package:lme4’:\n",
      "\n",
      "    lmer\n",
      "\n",
      "\n",
      "The following object is masked from ‘package:stats’:\n",
      "\n",
      "    step\n",
      "\n",
      "\n",
      "Loading required package: carData\n",
      "\n",
      "\n",
      "Attaching package: ‘car’\n",
      "\n",
      "\n",
      "The following object is masked from ‘package:VIF’:\n",
      "\n",
      "    vif\n",
      "\n",
      "\n"
     ]
    }
   ],
   "source": [
    "## Load packages\n",
    "\n",
    "library(lmerTest)\n",
    "library(MuMIn)\n",
    "library(VIF)\n",
    "library(car)\n",
    "library(ggplot2)"
   ]
  },
  {
   "cell_type": "code",
   "execution_count": 3,
   "id": "41958a78-38ce-459a-8c24-40f9a3ff5ab8",
   "metadata": {},
   "outputs": [],
   "source": [
    "## Utility function for colinearity analysis\n",
    "\n",
    "vif.mer <- function (fit) {\n",
    "  ## adapted from rms::vif\n",
    "  \n",
    "  v <- vcov(fit)\n",
    "  nam <- names(fixef(fit))\n",
    "  \n",
    "  ## exclude intercepts\n",
    "  ns <- sum(1 * (nam == \"Intercept\" | nam == \"(Intercept)\"))\n",
    "  if (ns > 0) {\n",
    "    v <- v[-(1:ns), -(1:ns), drop = FALSE]\n",
    "    nam <- nam[-(1:ns)]\n",
    "  }\n",
    "  \n",
    "  d <- diag(v)^0.5\n",
    "  v <- diag(solve(v/(d %o% d)))\n",
    "  names(v) <- nam\n",
    "  v\n",
    "}"
   ]
  },
  {
   "cell_type": "code",
   "execution_count": 4,
   "id": "eda61144-95ec-4bf9-8640-6027ac3d4a6c",
   "metadata": {},
   "outputs": [
    {
     "data": {
      "text/plain": [
       "      Pig            Evit         Cu          Litter          Start      \n",
       " Min.   :4601   Evit000:276   Cu000:274   Min.   : 1.00   Min.   :15.00  \n",
       " 1st Qu.:4857   Evit100:286   Cu035:300   1st Qu.: 5.00   1st Qu.:23.80  \n",
       " Median :5866   Evit200:299   Cu175:287   Median :11.00   Median :25.70  \n",
       " Mean   :6238                             Mean   :12.14   Mean   :25.67  \n",
       " 3rd Qu.:8050                             3rd Qu.:20.00   3rd Qu.:27.30  \n",
       " Max.   :8442                             Max.   :24.00   Max.   :35.40  \n",
       "                                                                         \n",
       "     Weight            Feed             Time       \n",
       " Min.   : 15.00   Min.   :  3.30   Min.   : 1.000  \n",
       " 1st Qu.: 38.30   1st Qu.: 32.80   1st Qu.: 3.000  \n",
       " Median : 59.20   Median : 74.50   Median : 6.000  \n",
       " Mean   : 60.73   Mean   : 80.73   Mean   : 6.481  \n",
       " 3rd Qu.: 81.20   3rd Qu.:123.00   3rd Qu.: 9.000  \n",
       " Max.   :117.00   Max.   :224.50   Max.   :12.000  \n",
       "                  NA's   :72                       "
      ]
     },
     "metadata": {},
     "output_type": "display_data"
    }
   ],
   "source": [
    "## We load and show some of the data from the dataset.\n",
    "\n",
    "filename <- 'pred_data.csv'\n",
    "\n",
    "analysisData <- read.csv(file=filename, header=TRUE, sep=\",\")\n",
    "\n",
    "summary(analysisData)"
   ]
  },
  {
   "cell_type": "code",
   "execution_count": 5,
   "id": "78d79687-fb53-494c-abba-efb7da277d04",
   "metadata": {},
   "outputs": [
    {
     "data": {
      "image/png": "[encoded data removed]",
      "text/plain": [
       "plot without title"
      ]
     },
     "metadata": {
      "image/png": {
       "height": 420,
       "width": 420
      }
     },
     "output_type": "display_data"
    }
   ],
   "source": [
    "boxplot(analysisData$Time)\n",
    "\n",
    "# In this case there are not much outliers, if there would be outliers we would \n",
    "# first have to log scale this data by doing\n",
    "#\n",
    "# analysisData$Time = log(analysisData$Time)\n",
    "#"
   ]
  },
  {
   "cell_type": "code",
   "execution_count": 15,
   "id": "2b204033-2006-4e35-8589-ee26c9a6aa4b",
   "metadata": {},
   "outputs": [
    {
     "data": {
      "text/plain": [
       "Linear mixed model fit by maximum likelihood . t-tests use Satterthwaite's\n",
       "  method [lmerModLmerTest]\n",
       "Formula: Weight ~ Time + (1 | Pig)\n",
       "   Data: analysisData\n",
       "\n",
       "     AIC      BIC   logLik deviance df.resid \n",
       "  4813.9   4832.9  -2402.9   4805.9      857 \n",
       "\n",
       "Scaled residuals: \n",
       "    Min      1Q  Median      3Q     Max \n",
       "-4.7145 -0.5702 -0.0940  0.4883  4.7748 \n",
       "\n",
       "Random effects:\n",
       " Groups   Name        Variance Std.Dev.\n",
       " Pig      (Intercept) 39.82    6.310   \n",
       " Residual             11.35    3.369   \n",
       "Number of obs: 861, groups:  Pig, 72\n",
       "\n",
       "Fixed effects:\n",
       "             Estimate Std. Error        df t value Pr(>|t|)    \n",
       "(Intercept)  15.72352    0.78294  84.33256   20.08   <2e-16 ***\n",
       "Time          6.94251    0.03337 789.03911  208.07   <2e-16 ***\n",
       "---\n",
       "Signif. codes:  0 ‘***’ 0.001 ‘**’ 0.01 ‘*’ 0.05 ‘.’ 0.1 ‘ ’ 1\n",
       "\n",
       "Correlation of Fixed Effects:\n",
       "     (Intr)\n",
       "Time -0.276"
      ]
     },
     "metadata": {},
     "output_type": "display_data"
    },
    {
     "name": "stdout",
     "output_type": "stream",
     "text": [
      "[1] \"RSquared:\"\n"
     ]
    },
    {
     "data": {
      "text/html": [
       "<table class=\"dataframe\">\n",
       "<caption>A matrix: 1 × 2 of type dbl</caption>\n",
       "<thead>\n",
       "\t<tr><th scope=col>R2m</th><th scope=col>R2c</th></tr>\n",
       "</thead>\n",
       "<tbody>\n",
       "\t<tr><td>0.9178735</td><td>0.9817808</td></tr>\n",
       "</tbody>\n",
       "</table>\n"
      ],
      "text/latex": [
       "A matrix: 1 × 2 of type dbl\n",
       "\\begin{tabular}{ll}\n",
       " R2m & R2c\\\\\n",
       "\\hline\n",
       "\t 0.9178735 & 0.9817808\\\\\n",
       "\\end{tabular}\n"
      ],
      "text/markdown": [
       "\n",
       "A matrix: 1 × 2 of type dbl\n",
       "\n",
       "| R2m | R2c |\n",
       "|---|---|\n",
       "| 0.9178735 | 0.9817808 |\n",
       "\n"
      ],
      "text/plain": [
       "     R2m       R2c      \n",
       "[1,] 0.9178735 0.9817808"
      ]
     },
     "metadata": {},
     "output_type": "display_data"
    },
    {
     "name": "stdout",
     "output_type": "stream",
     "text": [
      "[1] \"VIF:\"\n"
     ]
    },
    {
     "data": {
      "text/html": [
       "<strong>Time:</strong> 1"
      ],
      "text/latex": [
       "\\textbf{Time:} 1"
      ],
      "text/markdown": [
       "**Time:** 1"
      ],
      "text/plain": [
       "Time \n",
       "   1 "
      ]
     },
     "metadata": {},
     "output_type": "display_data"
    },
    {
     "name": "stdout",
     "output_type": "stream",
     "text": [
      "[1] \"Anova:\"\n"
     ]
    },
    {
     "data": {
      "text/html": [
       "<table class=\"dataframe\">\n",
       "<caption>A anova: 1 × 6</caption>\n",
       "<thead>\n",
       "\t<tr><th></th><th scope=col>Sum Sq</th><th scope=col>Mean Sq</th><th scope=col>NumDF</th><th scope=col>DenDF</th><th scope=col>F value</th><th scope=col>Pr(&gt;F)</th></tr>\n",
       "\t<tr><th></th><th scope=col>&lt;dbl&gt;</th><th scope=col>&lt;dbl&gt;</th><th scope=col>&lt;int&gt;</th><th scope=col>&lt;dbl&gt;</th><th scope=col>&lt;dbl&gt;</th><th scope=col>&lt;dbl&gt;</th></tr>\n",
       "</thead>\n",
       "<tbody>\n",
       "\t<tr><th scope=row>Time</th><td>491488.7</td><td>491488.7</td><td>1</td><td>789.0391</td><td>43293.39</td><td>0</td></tr>\n",
       "</tbody>\n",
       "</table>\n"
      ],
      "text/latex": [
       "A anova: 1 × 6\n",
       "\\begin{tabular}{r|llllll}\n",
       "  & Sum Sq & Mean Sq & NumDF & DenDF & F value & Pr(>F)\\\\\n",
       "  & <dbl> & <dbl> & <int> & <dbl> & <dbl> & <dbl>\\\\\n",
       "\\hline\n",
       "\tTime & 491488.7 & 491488.7 & 1 & 789.0391 & 43293.39 & 0\\\\\n",
       "\\end{tabular}\n"
      ],
      "text/markdown": [
       "\n",
       "A anova: 1 × 6\n",
       "\n",
       "| <!--/--> | Sum Sq &lt;dbl&gt; | Mean Sq &lt;dbl&gt; | NumDF &lt;int&gt; | DenDF &lt;dbl&gt; | F value &lt;dbl&gt; | Pr(&gt;F) &lt;dbl&gt; |\n",
       "|---|---|---|---|---|---|---|\n",
       "| Time | 491488.7 | 491488.7 | 1 | 789.0391 | 43293.39 | 0 |\n",
       "\n"
      ],
      "text/plain": [
       "     Sum Sq   Mean Sq  NumDF DenDF    F value  Pr(>F)\n",
       "Time 491488.7 491488.7 1     789.0391 43293.39 0     "
      ]
     },
     "metadata": {},
     "output_type": "display_data"
    }
   ],
   "source": [
    "## We make a model where the dependent variable weight is predicted by time, with a random effect taken into account for each individual pig\n",
    "\n",
    "model = lmer(Weight ~ \n",
    "            Time + \n",
    "            (1|Pig),\n",
    "          data= analysisData, \n",
    "          REML=FALSE)\n",
    "\n",
    "## Print the model output\n",
    "\n",
    "summary(model)\n",
    "\n",
    "print(\"RSquared:\")\n",
    "\n",
    "r.squaredGLMM(model)\n",
    "\n",
    "print(\"VIF:\")\n",
    "\n",
    "vif.mer(model)\n",
    "\n",
    "print(\"Anova:\")\n",
    "\n",
    "anova(model)\n"
   ]
  }
 ],
 "metadata": {
  "kernelspec": {
   "display_name": "R",
   "language": "R",
   "name": "ir"
  },
  "language_info": {
   "codemirror_mode": "r",
   "file_extension": ".r",
   "mimetype": "text/x-r-source",
   "name": "R",
   "pygments_lexer": "r",
   "version": "3.6.3"
  }
 },
 "nbformat": 4,
 "nbformat_minor": 5
}
