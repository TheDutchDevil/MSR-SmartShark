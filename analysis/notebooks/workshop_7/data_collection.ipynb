{
 "cells": [
  {
   "cell_type": "code",
   "execution_count": 2,
   "id": "dd1183f0-290c-4243-9e46-5002287409cd",
   "metadata": {},
   "outputs": [
    {
     "data": {
      "text/html": [
       "<div>\n",
       "<style scoped>\n",
       "    .dataframe tbody tr th:only-of-type {\n",
       "        vertical-align: middle;\n",
       "    }\n",
       "\n",
       "    .dataframe tbody tr th {\n",
       "        vertical-align: top;\n",
       "    }\n",
       "\n",
       "    .dataframe thead th {\n",
       "        text-align: right;\n",
       "    }\n",
       "</style>\n",
       "<table border=\"1\" class=\"dataframe\">\n",
       "  <thead>\n",
       "    <tr style=\"text-align: right;\">\n",
       "      <th></th>\n",
       "      <th>Pig</th>\n",
       "      <th>Evit</th>\n",
       "      <th>Cu</th>\n",
       "      <th>Litter</th>\n",
       "      <th>Start</th>\n",
       "      <th>Weight</th>\n",
       "      <th>Feed</th>\n",
       "      <th>Time</th>\n",
       "    </tr>\n",
       "  </thead>\n",
       "  <tbody>\n",
       "    <tr>\n",
       "      <th>0</th>\n",
       "      <td>4601</td>\n",
       "      <td>Evit000</td>\n",
       "      <td>Cu000</td>\n",
       "      <td>1</td>\n",
       "      <td>26.5</td>\n",
       "      <td>26.50000</td>\n",
       "      <td>NaN</td>\n",
       "      <td>1</td>\n",
       "    </tr>\n",
       "    <tr>\n",
       "      <th>1</th>\n",
       "      <td>4601</td>\n",
       "      <td>Evit000</td>\n",
       "      <td>Cu000</td>\n",
       "      <td>1</td>\n",
       "      <td>26.5</td>\n",
       "      <td>27.59999</td>\n",
       "      <td>5.200005</td>\n",
       "      <td>2</td>\n",
       "    </tr>\n",
       "    <tr>\n",
       "      <th>2</th>\n",
       "      <td>4601</td>\n",
       "      <td>Evit000</td>\n",
       "      <td>Cu000</td>\n",
       "      <td>1</td>\n",
       "      <td>26.5</td>\n",
       "      <td>36.50000</td>\n",
       "      <td>17.600000</td>\n",
       "      <td>3</td>\n",
       "    </tr>\n",
       "    <tr>\n",
       "      <th>3</th>\n",
       "      <td>4601</td>\n",
       "      <td>Evit000</td>\n",
       "      <td>Cu000</td>\n",
       "      <td>1</td>\n",
       "      <td>26.5</td>\n",
       "      <td>40.29999</td>\n",
       "      <td>28.500000</td>\n",
       "      <td>4</td>\n",
       "    </tr>\n",
       "    <tr>\n",
       "      <th>4</th>\n",
       "      <td>4601</td>\n",
       "      <td>Evit000</td>\n",
       "      <td>Cu000</td>\n",
       "      <td>1</td>\n",
       "      <td>26.5</td>\n",
       "      <td>49.09998</td>\n",
       "      <td>45.200001</td>\n",
       "      <td>5</td>\n",
       "    </tr>\n",
       "  </tbody>\n",
       "</table>\n",
       "</div>"
      ],
      "text/plain": [
       "    Pig     Evit     Cu  Litter  Start    Weight       Feed  Time\n",
       "0  4601  Evit000  Cu000       1   26.5  26.50000        NaN     1\n",
       "1  4601  Evit000  Cu000       1   26.5  27.59999   5.200005     2\n",
       "2  4601  Evit000  Cu000       1   26.5  36.50000  17.600000     3\n",
       "3  4601  Evit000  Cu000       1   26.5  40.29999  28.500000     4\n",
       "4  4601  Evit000  Cu000       1   26.5  49.09998  45.200001     5"
      ]
     },
     "execution_count": 2,
     "metadata": {},
     "output_type": "execute_result"
    }
   ],
   "source": [
    "import pandas as pd\n",
    "import statsmodels.api as sm\n",
    "import statsmodels.formula.api as smf\n",
    "\n",
    "# Load dataset\n",
    "data = sm.datasets.get_rdataset('dietox', 'geepack').data\n",
    "\n",
    "data.head()"
   ]
  },
  {
   "cell_type": "code",
   "execution_count": 3,
   "id": "3f6da3db-64a8-4c8c-ac33-a85494258242",
   "metadata": {},
   "outputs": [],
   "source": [
    "'''\n",
    "Right now we save a mock dataset as a .csv file for the analysis jupyter notebook. Normally, within this notebook\n",
    "we would connect to the smartshark instance, run our queries that generate the data, wrangle this data into a \n",
    "pandas dataframe, and then save it as a csv. \n",
    "\n",
    "However, this step is left as a excercise.\n",
    "'''\n",
    "\n",
    "data.to_csv(\"pred_data.csv\", index=False)"
   ]
  },
  {
   "cell_type": "code",
   "execution_count": 10,
   "id": "29ecc009-a076-4e57-b8fa-74c4e0bd0e20",
   "metadata": {},
   "outputs": [
    {
     "name": "stdout",
     "output_type": "stream",
     "text": [
      "Found 16779 pull requests\n"
     ]
    }
   ],
   "source": [
    "from pymongo import MongoClient\n",
    "import pandas as pd\n",
    "\n",
    "connection = MongoClient(\n",
    "    host=\"research.cassee.dev\",\n",
    "    username=\"read-shark\",\n",
    "    password=\"msr2021shark\")\n",
    "\n",
    "db = connection.smartshark_2_1\n",
    "\n",
    "projects = list(db.project.find())\n",
    "pr_systems = list(db.pull_request_system.find())\n",
    "\n",
    "'''\n",
    "We connect to the database and run the following query. This querys selects\n",
    "the merged pull requests and when they were opened and closed\n",
    "'''\n",
    "pull_requests = list(db.pull_request.find({'merged_at': {'$exists': True }}, {'created_at': 1, 'merged_at' : 1, 'pull_request_system_id': 1, 'author_association': 1}))\n",
    "\n",
    "print(f\"Found {len(pull_requests)} pull requests\")"
   ]
  },
  {
   "cell_type": "code",
   "execution_count": 13,
   "id": "86408f28-f2bd-4010-9b99-9788544c5eb6",
   "metadata": {},
   "outputs": [],
   "source": [
    "def count_comments_for_a_pr(pr):\n",
    "    '''\n",
    "    Find the number of comments for a PR by counting all elements in the pull_request_comment collection\n",
    "    that have an entry for which the pull_request_id field is set to the identifier of the pr\n",
    "    '''\n",
    "    pr[\"comment_count\"] = db.pull_request_comment.count_documents({'pull_request_id': pr[\"_id\"]})"
   ]
  },
  {
   "cell_type": "code",
   "execution_count": 11,
   "id": "01786d9a-5e7f-46a9-a8f8-aa199c21ced9",
   "metadata": {},
   "outputs": [],
   "source": [
    "'''\n",
    "We count the number of comments per PR for each PR. As this fires off \n",
    "one query per PR this might take a minute or two. If this takes too \n",
    "long, you can always consider stopping this loop after thousand iterations,\n",
    "and first testing out your entire pipeline before continuing.\n",
    "'''\n",
    "\n",
    "for pr in pull_requests:\n",
    "    if \"comment_count\" not in pr:\n",
    "        count_comments_for_a_pr(pr)"
   ]
  },
  {
   "cell_type": "code",
   "execution_count": 12,
   "id": "3a27ce18-b146-4909-a6c8-6921a931cd17",
   "metadata": {},
   "outputs": [
    {
     "name": "stdout",
     "output_type": "stream",
     "text": [
      "DF has 16779 rows\n"
     ]
    }
   ],
   "source": [
    "'''\n",
    "Create two dictionaries that can be used to traverse from a PR system id to a project name in constant time\n",
    "'''\n",
    "vcs_to_project_id = {pr_sys[\"_id\"]:pr_sys[\"project_id\"] for pr_sys in pr_systems}\n",
    "project_id_to_name = {proj[\"_id\"] : proj[\"name\"] for proj in projects}\n",
    "\n",
    "'''\n",
    "Convert our PR data to a matrix where each row is a PR. We only convert\n",
    "the PRs for which comment_count is set.\n",
    "'''\n",
    "rows = [[pr[\"created_at\"].weekday() > 4, \n",
    "         (pr[\"merged_at\"] - pr[\"created_at\"]).total_seconds(), \n",
    "         project_id_to_name[vcs_to_project_id[pr[\"pull_request_system_id\"]]], \n",
    "         pr[\"author_association\"],\n",
    "         pr[\"comment_count\"]] \n",
    "                for pr in pull_requests if \"comment_count\" in pr]\n",
    "\n",
    "df = pd.DataFrame(rows, columns = [\"IsWeekday\", \"Duration\", \"Project\", \"AuthorAssociation\", \"CommentCount\"])\n",
    "\n",
    "df.head()\n",
    "\n",
    "print(f\"DF has {len(df.index)} rows\")\n",
    "\n",
    "df.to_csv('se.csv', index=False)"
   ]
  },
  {
   "cell_type": "code",
   "execution_count": null,
   "id": "c2f06abc-5015-413a-9140-67f1ff544d15",
   "metadata": {},
   "outputs": [],
   "source": []
  }
 ],
 "metadata": {
  "kernelspec": {
   "display_name": "Python 3 (ipykernel)",
   "language": "python",
   "name": "python3"
  },
  "language_info": {
   "codemirror_mode": {
    "name": "ipython",
    "version": 3
   },
   "file_extension": ".py",
   "mimetype": "text/x-python",
   "name": "python",
   "nbconvert_exporter": "python",
   "pygments_lexer": "ipython3",
   "version": "3.8.10"
  }
 },
 "nbformat": 4,
 "nbformat_minor": 5
}
